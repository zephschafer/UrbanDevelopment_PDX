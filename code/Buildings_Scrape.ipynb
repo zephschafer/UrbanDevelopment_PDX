{
 "cells": [
  {
   "cell_type": "code",
   "execution_count": 41,
   "metadata": {},
   "outputs": [],
   "source": [
    "import time\n",
    "import requests\n",
    "import fiona\n",
    "import geopandas as gpd\n",
    "import pandas as pd\n",
    "from geoalchemy2 import Geometry, WKTElement\n",
    "from sqlalchemy import *\n",
    "from tqdm import tqdm_notebook as tqdm\n",
    "import psycopg2\n",
    "from shapely.geometry.polygon import Polygon\n",
    "from shapely.geometry.multipolygon import MultiPolygon\n",
    "import os\n",
    "from tools_Scrape import scrape, explode"
   ]
  },
  {
   "cell_type": "code",
   "execution_count": 42,
   "metadata": {},
   "outputs": [],
   "source": [
    "# Start the clock\n",
    "start_time = time.time()"
   ]
  },
  {
   "cell_type": "code",
   "execution_count": 43,
   "metadata": {},
   "outputs": [],
   "source": [
    "# QuerySettings\n",
    "querysize = 100\n",
    "offsetmax = 245000\n",
    "offsets = [str(x) for x in range(1, offsetmax, querysize)]"
   ]
  },
  {
   "cell_type": "code",
   "execution_count": 44,
   "metadata": {},
   "outputs": [
    {
     "data": {
      "application/vnd.jupyter.widget-view+json": {
       "model_id": "5aa40d5282ba440199370212df29a20f",
       "version_major": 2,
       "version_minor": 0
      },
      "text/plain": [
       "HBox(children=(IntProgress(value=0, max=2450), HTML(value=u'')))"
      ]
     },
     "metadata": {},
     "output_type": "display_data"
    },
    {
     "name": "stdout",
     "output_type": "stream",
     "text": [
      "\n"
     ]
    }
   ],
   "source": [
    "# Set Paths and Table Names\n",
    "querysize = str(querysize)\n",
    "for queryoffset in tqdm(offsets):\n",
    "    try:\n",
    "        buildingsAPI = 'https://www.portlandmaps.com/arcgis/rest/services/Public/COP_OpenData_Property/MapServer/184/query?where=1%3D1&text=&objectIds=&time=&geometry=&geometryType=esriGeometryEnvelope&inSR=&spatialRel=esriSpatialRelIntersects&relationParam=&outFields=*&returnGeometry=true&returnTrueCurves=false&maxAllowableOffset=&geometryPrecision=&outSR=&returnIdsOnly=false&returnCountOnly=false&orderByFields=&groupByFieldsForStatistics=&outStatistics=&returnZ=false&returnM=false&gdbVersion=&returnDistinctValues=false&resultOffset='\\\n",
    "                        + queryoffset + '&resultRecordCount='\\\n",
    "                        + querysize + '&queryByDistance=&returnExtentsOnly=false&datumTransformation=&parameterValues=&rangeValues=&f=geojson'\n",
    "        api = buildingsAPI\n",
    "        exportname = \"buildings\"\n",
    "        tablename = exportname\n",
    "        gdf = scrape(api,tablename)\n",
    "    except:\n",
    "        pass"
   ]
  },
  {
   "cell_type": "code",
   "execution_count": 45,
   "metadata": {},
   "outputs": [],
   "source": [
    "# # Sample Query for Check\n",
    "# with engine.connect() as conn:\n",
    "#     sql = \"\"\"SELECT COUNT(geom) FROM \"\"\" + tablename + \"\"\" LIMIT 1;\"\"\"\n",
    "#     results = conn.execute(sql)\n",
    "#     for result in results:\n",
    "#         print result\n",
    "#     conn.close()"
   ]
  },
  {
   "cell_type": "code",
   "execution_count": 46,
   "metadata": {},
   "outputs": [],
   "source": [
    "# Export the Query for Mapbox\n",
    "con = psycopg2.connect(database='tempspatial', user='zephschafer')\n",
    "query = 'SELECT * FROM ' + tablename + ';'\n",
    "gdf = gpd.GeoDataFrame.from_postgis(query, con, geom_col='geom' )\n",
    "gdf['map_height'] = gdf['avg_height']/3.28084\n",
    "use_type = pd.DataFrame({'bldg_use':['Multi Family Residential'\\\n",
    "                                    ,'Commercial Restaurant'\\\n",
    "                                    ,'Institutional'\\\n",
    "                                    ,'Commercial Office'\\\n",
    "                                    ,'Industrial','Commercial Retail'\\\n",
    "                                    ,'Vacant','Commercial Hotel'\\\n",
    "                                    ,'Parking']\\\n",
    "                       ,'map_color':['rgb(102,205,170)','rgb(0,0,156)'\\\n",
    "                                     ,'rgb(166,42,42)','rgb(0,0,156)'\\\n",
    "                                     ,'rgbrgb(102,205,170)'\\\n",
    "                                     ,'rgb(0,100,100)','rgb(102,205,170)'\\\n",
    "                                     ,'rgb(102,205,170))'\\\n",
    "                                     ,'rgb(102,205,170)']})\n",
    "gdf = gdf.merge(use_type, on='bldg_use', how='inner')"
   ]
  },
  {
   "cell_type": "code",
   "execution_count": 47,
   "metadata": {},
   "outputs": [],
   "source": [
    "try:\n",
    "    os.remove('../data/' + exportname + '.geojson')\n",
    "except:\n",
    "    pass\n",
    "gdf.to_file('../data/' + exportname + '.geojson', driver = 'GeoJSON')"
   ]
  },
  {
   "cell_type": "code",
   "execution_count": 48,
   "metadata": {},
   "outputs": [
    {
     "name": "stdout",
     "output_type": "stream",
     "text": [
      "This notebook took 2 Hours 168 Minutes and 51 Seconds\n"
     ]
    }
   ],
   "source": [
    "stop_time = time.time()\n",
    "print 'This notebook took ' \\\n",
    "        + str(int((stop_time-start_time)/60/60)) + ' Hours ' \\\n",
    "        + str(int((stop_time-start_time)/60)) + ' Minutes ' \\\n",
    "        + 'and ' + str(int(stop_time-start_time)%60) + ' Seconds'"
   ]
  }
 ],
 "metadata": {
  "kernelspec": {
   "display_name": "Python 2",
   "language": "python",
   "name": "python2"
  },
  "language_info": {
   "codemirror_mode": {
    "name": "ipython",
    "version": 2
   },
   "file_extension": ".py",
   "mimetype": "text/x-python",
   "name": "python",
   "nbconvert_exporter": "python",
   "pygments_lexer": "ipython2",
   "version": "2.7.15"
  }
 },
 "nbformat": 4,
 "nbformat_minor": 2
}
